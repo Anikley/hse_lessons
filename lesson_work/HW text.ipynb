{
 "cells": [
  {
   "cell_type": "code",
   "execution_count": 1,
   "metadata": {},
   "outputs": [
    {
     "name": "stderr",
     "output_type": "stream",
     "text": [
      "/opt/anaconda/lib/python3.6/site-packages/h5py/__init__.py:34: FutureWarning: Conversion of the second argument of issubdtype from `float` to `np.floating` is deprecated. In future, it will be treated as `np.float64 == np.dtype(float).type`.\n",
      "  from ._conv import register_converters as _register_converters\n",
      "Using TensorFlow backend.\n"
     ]
    }
   ],
   "source": [
    "import sklearn\n",
    "import numpy as np\n",
    "from random import randrange\n",
    "from keras import layers, models, optimizers, backend, metrics, callbacks\n",
    "import codecs\n",
    "from keras.preprocessing import text, sequence\n",
    "from nltk.tokenize import word_tokenize\n",
    "import random\n",
    "\n",
    "import matplotlib.pyplot as plt\n",
    "plt.style.use('ggplot')\n",
    "%matplotlib inline\n",
    "plt.rcParams['figure.figsize'] = (15, 12) # set default size of plots"
   ]
  },
  {
   "cell_type": "code",
   "execution_count": 2,
   "metadata": {
    "collapsed": true
   },
   "outputs": [],
   "source": [
    "import csv"
   ]
  },
  {
   "cell_type": "markdown",
   "metadata": {},
   "source": [
    "Решим задачу классификации текстовых данных. В качестве датасета возьмём базу рецензий сайта IMDB, рецензии размечены на два класса: позитивные и негативные. Такая задача называется sentiment analysis"
   ]
  },
  {
   "cell_type": "markdown",
   "metadata": {},
   "source": [
    "1. Считаем данные из CSV файла"
   ]
  },
  {
   "cell_type": "code",
   "execution_count": 3,
   "metadata": {
    "collapsed": true
   },
   "outputs": [],
   "source": [
    "texts = []\n",
    "labels = []\n",
    "with open('labeledTrainData.tsv', 'r') as csvfile:\n",
    "    reader = csv.reader(csvfile, delimiter='\\t')\n",
    "    _ = next(reader)\n",
    "    for l in reader:\n",
    "        texts.append(l[2])\n",
    "        labels.append(l[1])"
   ]
  },
  {
   "cell_type": "markdown",
   "metadata": {},
   "source": [
    "Убедимся, что данные считались корректно:"
   ]
  },
  {
   "cell_type": "code",
   "execution_count": 4,
   "metadata": {},
   "outputs": [
    {
     "data": {
      "text/plain": [
       "\"With all this stuff going down at the moment with MJ i've started listening to his music, watching the odd documentary here and there, watched The Wiz and watched Moonwalker again. Maybe i just want to get a certain insight into this guy who i thought was really cool in the eighties just to maybe make up my mind whether he is guilty or innocent. Moonwalker is part biography, part feature film which i remember going to see at the cinema when it was originally released. Some of it has subtle messages about MJ's feeling towards the press and also the obvious message of drugs are bad m'kay.<br /><br />Visually impressive but of course this is all about Michael Jackson so unless you remotely like MJ in anyway then you are going to hate this and find it boring. Some may call MJ an egotist for consenting to the making of this movie BUT MJ and most of his fans would say that he made it for the fans which if true is really nice of him.<br /><br />The actual feature film bit when it finally starts is only on for 20 minutes or so excluding the Smooth Criminal sequence and Joe Pesci is convincing as a psychopathic all powerful drug lord. Why he wants MJ dead so bad is beyond me. Because MJ overheard his plans? Nah, Joe Pesci's character ranted that he wanted people to know it is he who is supplying drugs etc so i dunno, maybe he just hates MJ's music.<br /><br />Lots of cool things in this like MJ turning into a car and a robot and the whole Speed Demon sequence. Also, the director must have had the patience of a saint when it came to filming the kiddy Bad sequence as usually directors hate working with one kid let alone a whole bunch of them performing a complex dance scene.<br /><br />Bottom line, this movie is for people who like MJ on one level or another (which i think is most people). If not, then stay away. It does try and give off a wholesome message and ironically MJ's bestest buddy in this movie is a girl! Michael Jackson is truly one of the most talented people ever to grace this planet but is he guilty? Well, with all the attention i've gave this subject....hmmm well i don't know because people can be different behind closed doors, i know this for a fact. He is either an extremely nice but stupid guy or one of the most sickest liars. I hope he is not the latter.\""
      ]
     },
     "execution_count": 4,
     "metadata": {},
     "output_type": "execute_result"
    }
   ],
   "source": [
    "texts[0]"
   ]
  },
  {
   "cell_type": "markdown",
   "metadata": {},
   "source": [
    "В данных сохранилась HTML-разметка. Вероятно, её стоит убрать."
   ]
  },
  {
   "cell_type": "markdown",
   "metadata": {},
   "source": [
    "Теперь необходимо перевести текст в такое представление, с которым нам будет удобно работать. Существует модель [мешка слов](https://en.wikipedia.org/wiki/Bag-of-words_model), которая долгое время использовалась в классических методах. К сожалению, эта модель не учитывает семантическую информацию и векторы, присваиваемые словам, имеют большую размерность, что делает её не лучшим выбором для тренировки нейронной сети.\n",
    "\n",
    "Мы будем пользоваться [word embeddings](https://en.wikipedia.org/wiki/Word_embedding), специальными векторами рассчитанными таким образом, чтобы учитывать сематническую информацию и при этом иметь небольшой размер. Подробно про рассчёт embeddings на примере Word2Vec можно прочесть в [википедии](https://en.wikipedia.org/wiki/Word2vec), [оригинальносй статье](https://arxiv.org/abs/1301.3781) или слайдах курса.\n",
    "\n",
    "Существует несколько видов embedding'ов. Сначала воспользуйтесь [Glove](https://nlp.stanford.edu/pubs/glove.pdf).\n"
   ]
  },
  {
   "cell_type": "markdown",
   "metadata": {},
   "source": [
    "Скачанный файл состоит из двух столбцов: слово и вектор, который ему соответсвует.\n",
    "    \n",
    "Слова упорядочены по частоте встречаемости в языке. Вам необходимо загрузить эти векторы в словарь."
   ]
  },
  {
   "cell_type": "markdown",
   "metadata": {},
   "source": [
    "Vocab это вспомогательный класс, помогающий работать с вокабуляром. Внутри находятся два словаря, в одном хранится соответсвие между словами и индексами в glove (порядковый номер слова), а в другом -- между индексами и словами."
   ]
  },
  {
   "cell_type": "code",
   "execution_count": 6,
   "metadata": {
    "collapsed": true
   },
   "outputs": [],
   "source": [
    "class Vocab(object):\n",
    "    w2i = None # Word to index\n",
    "    i2w = None"
   ]
  },
  {
   "cell_type": "markdown",
   "metadata": {},
   "source": [
    "Следующая функция загружает эмбеддинги с диска. Обратите внимание, что добавляются два специальных ветора: один (PAD) отвечает за отступ (состоит из нулей и имеет нулевой индекс), а другой (UNK) -- за неизвестное слово (заполните его средним значением). Дополните её!"
   ]
  },
  {
   "cell_type": "code",
   "execution_count": 9,
   "metadata": {},
   "outputs": [
    {
     "data": {
      "text/plain": [
       "array([2.25, 1.75])"
      ]
     },
     "execution_count": 9,
     "metadata": {},
     "output_type": "execute_result"
    }
   ],
   "source": [
    "np.mean([[1,2], [2,3], [3,1], [3,1]], axis=0)"
   ]
  },
  {
   "cell_type": "code",
   "execution_count": 12,
   "metadata": {
    "collapsed": true
   },
   "outputs": [],
   "source": [
    "def load_embeddings(filename, embedding_size=300):\n",
    "    \n",
    "    # список векторов\n",
    "    embeddings_list = []\n",
    "    # словарь слово-индекс\n",
    "    vocabulary_mapping = {'<PAD>': 0} # занесём ключ соотетствующий отступу\n",
    "    pad = np.zeros(embedding_size) # создадим вектор для PAD\n",
    "    embeddings_list.append(pad)\n",
    "    \n",
    "    with codecs.open(filename, 'rb', 'utf-8') as glove_file:\n",
    "        for line in glove_file:\n",
    "            token, vector = line.strip().split() # возможно этот код будет работать не всегда, исправьте его\n",
    "            # Впишите сюда свой код\n",
    "            # Обратите внимание, что значения в словаре должны совпадать с индексами в списке \n",
    "            \n",
    "            \n",
    "    vocabulary_mapping['<UNK>'] = len(embeddings_list)\n",
    "    unk = np.mean(embeddings_list[1:], axis=0) # считаем средний вектор\n",
    "    embeddings_list.append(unk)\n",
    "    \n",
    "    embeddings = np.array(embeddings_list)\n",
    "    \n",
    "    # создаём вокабуляр\n",
    "    vocab = Vocab()\n",
    "    vocab.i2w = {v: k for k, v in vocabulary_mapping.items()}\n",
    "    vocab.w2i = vocabulary_mapping\n",
    "    \n",
    "    print('loaded!')\n",
    "    return embeddings, vocab"
   ]
  },
  {
   "cell_type": "markdown",
   "metadata": {},
   "source": [
    "Загрузим векторы с диска"
   ]
  },
  {
   "cell_type": "code",
   "execution_count": null,
   "metadata": {
    "collapsed": true
   },
   "outputs": [],
   "source": [
    "embeddings, vocab = load_embeddings('путь до файла', 100)"
   ]
  },
  {
   "cell_type": "markdown",
   "metadata": {},
   "source": [
    "Теперь напишем функцию, которая будет разбивать предложения на токены (слова), а затем каждому токену ставить в соответсвие индекс вектора. Ограничим марсимальный размер текста 128 словами (из соображений скорости вычислений). Данное ограничение сильно влияет на качество, если Вы хотите достичь лучших результатов, то необходимо использовать весь текст (и изменить архитектуру сети)."
   ]
  },
  {
   "cell_type": "code",
   "execution_count": 13,
   "metadata": {
    "collapsed": true
   },
   "outputs": [],
   "source": [
    "def sent_to_id_vec(sent, vocab, max_len=128, mode='tokenize'):\n",
    "    sent = sent.lower()\n",
    "\n",
    "    # два режима токенизации\n",
    "    if mode == 'tokenize':\n",
    "        tokens = word_tokenize(sent)\n",
    "    elif mode == 'split':\n",
    "        tokens = sent.split()\n",
    "    else:\n",
    "        raise Error(f'Unknown mode: {mode}')\n",
    "\n",
    "    if max_len is not None and len(tokens) > max_len:\n",
    "        tokens = tokens[:max_len]\n",
    "\n",
    "    result = []\n",
    "\n",
    "    for token in tokens:\n",
    "        if token in vocab.w2i:\n",
    "            result.append(vocab.w2i[token])\n",
    "        else:\n",
    "            result.append(vocab.w2i['<UNK>'])\n",
    "\n",
    "    return result"
   ]
  },
  {
   "cell_type": "markdown",
   "metadata": {},
   "source": [
    "Векторизуем наш датасет:"
   ]
  },
  {
   "cell_type": "code",
   "execution_count": 14,
   "metadata": {
    "collapsed": true
   },
   "outputs": [],
   "source": [
    "sequences = []\n",
    "for t in texts:\n",
    "    temp = sent_to_id_vec(t, vocab)\n",
    "    sequences.append(temp)"
   ]
  },
  {
   "cell_type": "markdown",
   "metadata": {},
   "source": [
    "Теперь в каждом объекте датасета находится не текст, а последовательность идентификаторов."
   ]
  },
  {
   "cell_type": "code",
   "execution_count": null,
   "metadata": {
    "collapsed": true
   },
   "outputs": [],
   "source": [
    "sequences[0]"
   ]
  },
  {
   "cell_type": "markdown",
   "metadata": {},
   "source": [
    "Проверим, что мы не ошиблись и выполним обратное преобразование для произвольного предложения."
   ]
  },
  {
   "cell_type": "code",
   "execution_count": null,
   "metadata": {
    "collapsed": true
   },
   "outputs": [],
   "source": [
    "' '.join([vocab.i2w[i] for i in sequences[0]])"
   ]
  },
  {
   "cell_type": "markdown",
   "metadata": {},
   "source": [
    "Предложения совпадают, значит мы сделали верные преобразования"
   ]
  },
  {
   "cell_type": "markdown",
   "metadata": {},
   "source": [
    "Рекуррентные сети способны улавливать зависимости между словами и чувствительны к порядку. Однако, они склонны \"забывать\" хвосты длинных последовательностей.\n",
    "\n",
    "Однако, наивная реализация RNN-ячейки не способна показать сколько-нибудь значимые результаты. Воспользуемся ячейкой специального вида, называющейся LSTM. Про LSTM можно прочесть [в блоге Криса Ола](http://colah.github.io/posts/2015-08-Understanding-LSTMs/) и слайдах лекций.\n",
    "\n"
   ]
  },
  {
   "cell_type": "code",
   "execution_count": null,
   "metadata": {
    "collapsed": true
   },
   "outputs": [],
   "source": [
    "embeddings.shape"
   ]
  },
  {
   "cell_type": "code",
   "execution_count": 17,
   "metadata": {
    "collapsed": true
   },
   "outputs": [],
   "source": [
    "def build_LSTM_classifier():\n",
    "    # Точка входа в граф задаётся при помощи специальных тензоров типа Input\n",
    "    # Первая координата соответсвует длине текста, так как тексты в датасете имеют разную длину\n",
    "    # значение считается переменным\n",
    "    text_input = layers.Input(shape=(None,), dtype='int32')\n",
    "    \n",
    "    # Создаём специальный слой для работы с embedding, \n",
    "    # Его функция -- заменять индентификатор вектором из Glove\n",
    "    # Указываем trainable = False, чтобы векторы embedding'ов не изменялись в процессе обучения\n",
    "    embedding_layer = layers.Embedding(input_dim = embeddings.shape[0], \n",
    "                                       output_dim = embeddings.shape[1], \n",
    "                                       weights=[embeddings],\n",
    "                                       mask_zero=True,\n",
    "                                       trainable = False)\n",
    "    \n",
    "    x = embedding_layer(text_input)\n",
    "    \n",
    "    # Создаём рекуррентную ячейку\n",
    "    # Первый параметр отвечает за размер внутреннего состояния (памяти ячейки)\n",
    "    # По умолчанию такой слой возвращает только последнее состояние (см. картинку),\n",
    "    # Если мы хотим получить состояния на каждом шаге необходимо указать return_sequences = True\n",
    "    x = layers.LSTM(256, recurrent_dropout=0.25)(x)\n",
    "    \n",
    "    # Полученный результат направляем в полносвязный слой, который будет осуществлять классификацию\n",
    "    output = layers.Dense(1, activation='sigmoid')(x)\n",
    "    \n",
    "    model = models.Model(inputs=[text_input], outputs=[output], name = 'LSTM_classifier')\n",
    "    \n",
    "    \n",
    "    #  Для оптимизации будем использовать Adam \n",
    "    adam = optimizers.Adam(lr=0.0001)\n",
    "    \n",
    "    #Перед испльзованием модель необходимо скомпилировать\n",
    "    model.compile(adam, 'binary_crossentropy', metrics=['acc'])\n",
    "    \n",
    "    return model "
   ]
  },
  {
   "cell_type": "code",
   "execution_count": 18,
   "metadata": {
    "collapsed": true
   },
   "outputs": [],
   "source": [
    "backend.clear_session()\n",
    "model = build_LSTM_classifier()"
   ]
  },
  {
   "cell_type": "markdown",
   "metadata": {},
   "source": [
    "Выведем информацию по модели"
   ]
  },
  {
   "cell_type": "code",
   "execution_count": 19,
   "metadata": {},
   "outputs": [
    {
     "name": "stdout",
     "output_type": "stream",
     "text": [
      "_________________________________________________________________\n",
      "Layer (type)                 Output Shape              Param #   \n",
      "=================================================================\n",
      "input_1 (InputLayer)         (None, None)              0         \n",
      "_________________________________________________________________\n",
      "embedding_1 (Embedding)      (None, None, 100)         200       \n",
      "_________________________________________________________________\n",
      "lstm_1 (LSTM)                (None, 256)               365568    \n",
      "_________________________________________________________________\n",
      "dense_1 (Dense)              (None, 1)                 257       \n",
      "=================================================================\n",
      "Total params: 366,025\n",
      "Trainable params: 365,825\n",
      "Non-trainable params: 200\n",
      "_________________________________________________________________\n"
     ]
    }
   ],
   "source": [
    "model.summary()"
   ]
  },
  {
   "cell_type": "markdown",
   "metadata": {},
   "source": [
    "Разобьём датасет на три части"
   ]
  },
  {
   "cell_type": "code",
   "execution_count": null,
   "metadata": {
    "collapsed": true
   },
   "outputs": [],
   "source": [
    "def split_train_val(train_size = 0.6, val_size = 0.1, test_size = 0.3):\n",
    "    boundary_train = int(len(sequences) * train_size)\n",
    "    boundary_val = int(len(sequences) * (train_size + val_size))\n",
    "    \n",
    "    train_set = (sequences[:boundary_train], labels[:boundary_train])\n",
    "    val_set = (sequences[boundary_train:boundary_val], labels[boundary_train:boundary_val])\n",
    "    test_set = (sequences[boundary_val:], labels[boundary_val:])\n",
    "    \n",
    "    return train_set, val_set, test_set"
   ]
  },
  {
   "cell_type": "code",
   "execution_count": null,
   "metadata": {
    "collapsed": true
   },
   "outputs": [],
   "source": [
    "(x_train, y_train), (x_val, y_val), (x_test, y_tes) = split_train_val()"
   ]
  },
  {
   "cell_type": "markdown",
   "metadata": {},
   "source": [
    "Почти всё готово, чтобы начать обучение. Но так, как все предлдожения разной длины мы не можем конвертировать x в тензор, нам необходимо выровнять длину. Для этого мы воспользуемся специальной функцией pad_sequences(), доступной в keras. Недостающие элементы будут заполнены специальным символом PAD\n",
    "\n",
    "Но нам не хотелось бы увеличивать все элементы в датасете по размеру максимального. По этогому будем генерировать батчи сами и применять pad_sequences к ним независимо"
   ]
  },
  {
   "cell_type": "code",
   "execution_count": null,
   "metadata": {
    "collapsed": true
   },
   "outputs": [],
   "source": [
    "def generate_batches(x, y, batch_size=64):\n",
    "    i = 0\n",
    "    while True:\n",
    "        i = i % len(x)\n",
    "        yield sequence.pad_sequences(x[i:i+batch_size]), y[i:i+batch_size]\n",
    "        i += batch_size"
   ]
  },
  {
   "cell_type": "code",
   "execution_count": null,
   "metadata": {
    "collapsed": true
   },
   "outputs": [],
   "source": [
    "train_generator = generate_batches(x_train, y_train)\n",
    "val_generator = generate_batches(x_train, y_train)"
   ]
  },
  {
   "cell_type": "markdown",
   "metadata": {},
   "source": [
    "Теперь обучим нашу модель"
   ]
  },
  {
   "cell_type": "code",
   "execution_count": null,
   "metadata": {
    "collapsed": true
   },
   "outputs": [],
   "source": [
    "cbs = [\n",
    "    callbacks.ModelCheckpoint('models/LSTM/{epoch:02d}-{val_loss:.4f}.h5', save_best_only=True),\n",
    "    callbacks.TensorBoard(log_dir='models/LSTM/'),\n",
    "    callbacks.ReduceLROnPlateau(factor=0.1, patience=3, verbose=1, min_lr=0.00001, epsilon=0.01)]\n",
    "\n",
    "\n",
    "model.fit_generator(generator= train_generator, \n",
    "                    validation_data = val_generator, \n",
    "                    validation_steps= 40,\n",
    "                    steps_per_epoch=256,\n",
    "                    epochs=20,\n",
    "                    callbacks=cbs)"
   ]
  },
  {
   "cell_type": "code",
   "execution_count": null,
   "metadata": {
    "collapsed": true
   },
   "outputs": [],
   "source": [
    "model.evaluate(sequence.pad_sequences(x_test), y=y_tes, batch_size=64)"
   ]
  },
  {
   "cell_type": "markdown",
   "metadata": {},
   "source": [
    "77% Неплохой результат, но можно лучше.\n",
    "\n",
    "Проблема в том, что RNN забывают начало последовательности, а в нашем датасете все рецензии достаточно велики. Есть способ уменьшить влияние этого эффекта -- обучить два LSTM, один идёт от начала к концу предложения, а другой -- от конца к началу. Такой подход называется bidirectional"
   ]
  },
  {
   "cell_type": "markdown",
   "metadata": {
    "collapsed": true
   },
   "source": [
    "** Обучите Bidirectional LSTM **\n"
   ]
  },
  {
   "cell_type": "markdown",
   "metadata": {},
   "source": [
    "** Поэксперементируйте с эмбеддингами **\n"
   ]
  },
  {
   "cell_type": "markdown",
   "metadata": {},
   "source": [
    "** Поэксперементируйте с видом ячеек, попробуйте сделать стэк **\n"
   ]
  },
  {
   "cell_type": "markdown",
   "metadata": {},
   "source": [
    "** Уберите ограничение на 128 слов, адаптируйте модель к возросшей длине  **"
   ]
  },
  {
   "cell_type": "markdown",
   "metadata": {},
   "source": [
    "** Попробуйте реализовать attention (или успешно применить чей-то) **"
   ]
  },
  {
   "cell_type": "markdown",
   "metadata": {},
   "source": [
    "** Вы вольны делать всё что угодно, чтобы достичь наилучших результатов **"
   ]
  }
 ],
 "metadata": {
  "kernelspec": {
   "display_name": "Python 3",
   "language": "python",
   "name": "python3"
  },
  "language_info": {
   "codemirror_mode": {
    "name": "ipython",
    "version": 3
   },
   "file_extension": ".py",
   "mimetype": "text/x-python",
   "name": "python",
   "nbconvert_exporter": "python",
   "pygments_lexer": "ipython3",
   "version": "3.6.5"
  }
 },
 "nbformat": 4,
 "nbformat_minor": 2
}
